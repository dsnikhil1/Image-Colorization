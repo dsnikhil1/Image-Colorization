{
 "cells": [
  {
   "cell_type": "code",
   "execution_count": 37,
   "metadata": {},
   "outputs": [],
   "source": [
    "# Please note that Colorization GPU training results are included in Colorization (Includes GPU Computing) Jupyter notebook"
   ]
  },
  {
   "cell_type": "code",
   "execution_count": 38,
   "metadata": {},
   "outputs": [],
   "source": [
    "#GPUs were used to achieve best Colorization and Transfer Learning results"
   ]
  },
  {
   "cell_type": "code",
   "execution_count": 7,
   "metadata": {},
   "outputs": [],
   "source": [
    "import pandas as pd\n",
    "import numpy as np\n",
    "import torch\n",
    "import torchvision\n",
    "import matplotlib.pyplot as plt\n",
    "from random import shuffle\n",
    "import PIL\n",
    "from PIL import Image\n",
    "import copy\n",
    "import cv2\n",
    "import glob\n",
    "import cv2\n",
    "import os \n",
    "from os import path\n",
    "from skimage.color import lab2rgb\n",
    "torch.set_default_tensor_type('torch.FloatTensor')\n",
    "import torch.nn as nn\n",
    "from torch.nn import Linear, ReLU, MSELoss, Sequential, Conv2d, MaxPool2d, Module, Softmax, BatchNorm2d, Dropout, ConvTranspose2d\n",
    "from torch.optim import Adam, SGD\n",
    "from math import log10, sqrt\n",
    "import numpy as np\n",
    "from skimage.metrics import structural_similarity\n",
    "import argparse\n",
    "import imutils\n",
    "import time"
   ]
  },
  {
   "cell_type": "code",
   "execution_count": 3,
   "metadata": {},
   "outputs": [],
   "source": [
    "#Loading data function\n",
    "images = []\n",
    "def load_images_from_folder(folder):\n",
    "    for filename in os.listdir(folder):\n",
    "        #print(filename)\n",
    "        img = cv2.imread(os.path.join(folder,filename))\n",
    "        if img is not None:\n",
    "            #print('hi')\n",
    "            images.append((img,filename))\n",
    "    return images"
   ]
  },
  {
   "cell_type": "code",
   "execution_count": 4,
   "metadata": {},
   "outputs": [],
   "source": [
    "#LAB images\n",
    "images = load_images_from_folder(\"./face_images\")\n",
    "L_images = []\n",
    "ab_images= []\n",
    "for img,filename in images:\n",
    "    imageLAB = cv2.cvtColor(img, cv2.COLOR_BGR2LAB)\n",
    "    L, a, b = cv2.split(imageLAB)\n",
    "    L=np.array(L,dtype=np.float32)\n",
    "    L=L[np.newaxis,:,:]\n",
    "    a=np.array(a,dtype=np.float32)\n",
    "    b=np.array(b,dtype=np.float32)\n",
    "    ab=[]\n",
    "    ab.append(a)\n",
    "    ab.append(b)\n",
    "    ab=np.array(ab)\n",
    "    ab_images.append(torch.tensor(ab))\n",
    "    L_images.append(torch.tensor(L))"
   ]
  },
  {
   "cell_type": "code",
   "execution_count": 5,
   "metadata": {},
   "outputs": [],
   "source": [
    "#Train & Test data\n",
    "train_percentage=90\n",
    "train_size=int((975/100)*train_percentage)\n",
    "test_size=975-train_size\n",
    "all_indices=np.arange(0,975)\n",
    "np.random.shuffle(all_indices)\n",
    "train_L=[]\n",
    "train_ab=[]\n",
    "test_L=[]\n",
    "test_ab=[]\n",
    "for i in all_indices[:train_size]:\n",
    "    train_L.append(L_images[i])\n",
    "    train_ab.append(ab_images[i])\n",
    "for i in all_indices[train_size:]:\n",
    "    test_L.append(L_images[i])\n",
    "    test_ab.append(ab_images[i])\n",
    "train_L=torch.stack(train_L, dim=0)\n",
    "train_ab=torch.stack(train_ab, dim=0)\n",
    "test_L=torch.stack(test_L, dim=0)\n",
    "test_ab=torch.stack(test_ab, dim=0)"
   ]
  },
  {
   "cell_type": "code",
   "execution_count": 6,
   "metadata": {},
   "outputs": [],
   "source": [
    "class Convnet(nn.Module):   \n",
    "    def __init__(self):\n",
    "        super(Convnet, self).__init__()\n",
    "\n",
    "        self.convolution_layers = Sequential(\n",
    "            Conv2d(1, 8, kernel_size=3, stride=1, padding=1),\n",
    "            BatchNorm2d(8),\n",
    "            nn.ReLU(),\n",
    "            Conv2d(8, 16, kernel_size=3, stride=1, padding=1),\n",
    "            BatchNorm2d(16),\n",
    "            nn.ReLU(),\n",
    "            Conv2d(16, 32, kernel_size=3, stride=1, padding=1),\n",
    "            BatchNorm2d(32),\n",
    "            nn.ReLU(),\n",
    "            Conv2d(32, 64, kernel_size=3, stride=1, padding=1),\n",
    "            BatchNorm2d(64),\n",
    "            nn.ReLU(),\n",
    "            Conv2d(64, 128, kernel_size=3, stride=1, padding=1),\n",
    "            BatchNorm2d(128),\n",
    "            nn.ReLU()\n",
    "        )\n",
    "        \n",
    "        self.deconvolution_layers = Sequential(\n",
    "            ConvTranspose2d(128, 64, kernel_size=3, stride=1, padding=1),\n",
    "            BatchNorm2d(64),\n",
    "            nn.ReLU(),\n",
    "            ConvTranspose2d(64, 32, kernel_size=3, stride=1, padding=1),\n",
    "            BatchNorm2d(32),\n",
    "            nn.ReLU(),\n",
    "            ConvTranspose2d(32, 16, kernel_size=3, stride=1, padding=1),\n",
    "            BatchNorm2d(16),\n",
    "            nn.ReLU(),\n",
    "            ConvTranspose2d(16, 8, kernel_size=3, stride=1, padding=1),\n",
    "            BatchNorm2d(8),\n",
    "            nn.ReLU(),\n",
    "            ConvTranspose2d(8, 2, kernel_size=3, stride=1, padding=1),\n",
    "            BatchNorm2d(2),\n",
    "            nn.ReLU()\n",
    "        )\n",
    "\n",
    "\n",
    "    # Defining the forward pass    \n",
    "    def forward(self, x):\n",
    "        x = self.convolution_layers(x)\n",
    "        x = self.deconvolution_layers(x)\n",
    "        return x"
   ]
  },
  {
   "cell_type": "code",
   "execution_count": null,
   "metadata": {},
   "outputs": [],
   "source": []
  },
  {
   "cell_type": "markdown",
   "metadata": {},
   "source": [
    "# Training with CPU"
   ]
  },
  {
   "cell_type": "code",
   "execution_count": 12,
   "metadata": {},
   "outputs": [
    {
     "name": "stdout",
     "output_type": "stream",
     "text": [
      "Device cpu\n",
      "Printing train data shape\n",
      "torch.Size([877, 1, 128, 128])\n",
      "Printing train ab shape\n",
      "torch.Size([877, 2, 128, 128])\n",
      "Printing test data shape\n",
      "torch.Size([98, 1, 128, 128])\n",
      "Printing test ab shape\n",
      "torch.Size([98, 2, 128, 128])\n",
      "batch_size: 10\n",
      "num_epochs: 8\n",
      "learning_rate: 0.01\n",
      "batches: 87\n",
      "optimizer: Adam\n",
      "Loss function: MSELoss\n",
      "Convnet(\n",
      "  (convolution_layers): Sequential(\n",
      "    (0): Conv2d(1, 8, kernel_size=(3, 3), stride=(1, 1), padding=(1, 1))\n",
      "    (1): BatchNorm2d(8, eps=1e-05, momentum=0.1, affine=True, track_running_stats=True)\n",
      "    (2): ReLU()\n",
      "    (3): Conv2d(8, 16, kernel_size=(3, 3), stride=(1, 1), padding=(1, 1))\n",
      "    (4): BatchNorm2d(16, eps=1e-05, momentum=0.1, affine=True, track_running_stats=True)\n",
      "    (5): ReLU()\n",
      "    (6): Conv2d(16, 32, kernel_size=(3, 3), stride=(1, 1), padding=(1, 1))\n",
      "    (7): BatchNorm2d(32, eps=1e-05, momentum=0.1, affine=True, track_running_stats=True)\n",
      "    (8): ReLU()\n",
      "    (9): Conv2d(32, 64, kernel_size=(3, 3), stride=(1, 1), padding=(1, 1))\n",
      "    (10): BatchNorm2d(64, eps=1e-05, momentum=0.1, affine=True, track_running_stats=True)\n",
      "    (11): ReLU()\n",
      "    (12): Conv2d(64, 128, kernel_size=(3, 3), stride=(1, 1), padding=(1, 1))\n",
      "    (13): BatchNorm2d(128, eps=1e-05, momentum=0.1, affine=True, track_running_stats=True)\n",
      "    (14): ReLU()\n",
      "  )\n",
      "  (deconvolution_layers): Sequential(\n",
      "    (0): ConvTranspose2d(128, 64, kernel_size=(3, 3), stride=(1, 1), padding=(1, 1))\n",
      "    (1): BatchNorm2d(64, eps=1e-05, momentum=0.1, affine=True, track_running_stats=True)\n",
      "    (2): ReLU()\n",
      "    (3): ConvTranspose2d(64, 32, kernel_size=(3, 3), stride=(1, 1), padding=(1, 1))\n",
      "    (4): BatchNorm2d(32, eps=1e-05, momentum=0.1, affine=True, track_running_stats=True)\n",
      "    (5): ReLU()\n",
      "    (6): ConvTranspose2d(32, 16, kernel_size=(3, 3), stride=(1, 1), padding=(1, 1))\n",
      "    (7): BatchNorm2d(16, eps=1e-05, momentum=0.1, affine=True, track_running_stats=True)\n",
      "    (8): ReLU()\n",
      "    (9): ConvTranspose2d(16, 8, kernel_size=(3, 3), stride=(1, 1), padding=(1, 1))\n",
      "    (10): BatchNorm2d(8, eps=1e-05, momentum=0.1, affine=True, track_running_stats=True)\n",
      "    (11): ReLU()\n",
      "    (12): ConvTranspose2d(8, 2, kernel_size=(3, 3), stride=(1, 1), padding=(1, 1))\n",
      "    (13): BatchNorm2d(2, eps=1e-05, momentum=0.1, affine=True, track_running_stats=True)\n",
      "    (14): ReLU()\n",
      "  )\n",
      ")\n",
      "Epoch: 0, Loss: 3609.7622070, Testing Loss: 8203239936.000\n",
      "Epoch: 1, Loss: 3609.7045898, Testing Loss: 8050635264.000\n",
      "Epoch: 2, Loss: 3609.6958008, Testing Loss: 7803851776.000\n",
      "Epoch: 3, Loss: 3609.6560059, Testing Loss: 7928084992.000\n",
      "Epoch: 4, Loss: 3609.8059082, Testing Loss: 8026670080.000\n",
      "Epoch: 5, Loss: 3609.8474121, Testing Loss: 7747545088.000\n",
      "Epoch: 6, Loss: 3609.7863770, Testing Loss: 8139257344.000\n",
      "Epoch: 7, Loss: 3609.6125488, Testing Loss: 8052413440.000\n"
     ]
    }
   ],
   "source": [
    "model=torch.load('./colorizer.pkl')\n",
    "device=\"cpu\"\n",
    "print(\"Device\", device)\n",
    "\n",
    "\n",
    "batch_size = 10\n",
    "num_epochs = 8\n",
    "N=train_size\n",
    "learning_rate = 0.01\n",
    "batches = int(N/batch_size)\n",
    "model = model.float()\n",
    "model.to(device)\n",
    "\n",
    "train_data=copy.deepcopy(train_L)\n",
    "train_data=train_data/255\n",
    "train_data = train_data.to(device)\n",
    "print(\"Printing train data shape\")\n",
    "print(train_data.shape)\n",
    "train_ab = train_ab.to(device)\n",
    "print(\"Printing train ab shape\")\n",
    "print(train_ab.shape)\n",
    "test_data = copy.deepcopy(test_L)\n",
    "test_data = test_data.to(device)\n",
    "test_data=test_data/255\n",
    "print(\"Printing test data shape\")\n",
    "print(test_data.shape)\n",
    "test_ab = test_ab.to(device)\n",
    "print(\"Printing test ab shape\")\n",
    "print(test_ab.shape)\n",
    "\n",
    "\n",
    "error = nn.MSELoss()\n",
    "optimizer = torch.optim.Adam(model.parameters(), lr=learning_rate)\n",
    "print(\"batch_size:\",batch_size)\n",
    "print('num_epochs:',num_epochs)\n",
    "print(\"learning_rate:\",learning_rate)\n",
    "print(\"batches:\",batches)\n",
    "print(\"optimizer:\",'Adam')\n",
    "print(\"Loss function:\",\"MSELoss\")\n",
    "print(model)\n",
    "\n",
    "loss_hist = np.zeros(num_epochs)\n",
    "loss_test_hist = np.zeros(num_epochs)\n",
    "cpu_time=[]\n",
    "training_start_time = time.time()\n",
    "for epoch in range(num_epochs):\n",
    "    for index in range(batches):\n",
    "        patterns = train_data[index*batch_size:(index+1)*batch_size]\n",
    "        labels = train_ab[index*batch_size:(index+1)*batch_size]\n",
    "        \n",
    "        #print(\"printing all labels shape\")\n",
    "        #print(labels.shape)\n",
    "        # Forward pass \n",
    "        outputs = model(patterns)\n",
    "        loss = error(outputs, labels)\n",
    "        \n",
    "\n",
    "        # Initializing a gradient as 0 so there is no mixing of gradient among the batches\n",
    "        optimizer.zero_grad()\n",
    "\n",
    "        #Propagating the error backward\n",
    "        loss.backward()\n",
    "\n",
    "        # Optimizing the parameters\n",
    "        optimizer.step()\n",
    "        \n",
    "        #Saving the loss for visualization\n",
    "        loss_hist[epoch] += loss.data\n",
    "        \n",
    "\n",
    "    #test_total\n",
    "    patterns = test_data\n",
    "    labels = test_ab\n",
    "    outputs = model(patterns)\n",
    "    is_correct = torch.subtract(labels,outputs)\n",
    "    loss_test_hist[epoch] += (is_correct.sum()*is_correct.sum())/test_size\n",
    "\n",
    "    \n",
    "    print(\"Epoch: {}, Loss: {:.7f}, Testing Loss: {:.3f}\".format( \n",
    "                        epoch, loss_hist[epoch], loss_test_hist[epoch]))\n",
    "    \n",
    "    cpu_time.append(time.time()-training_start_time)"
   ]
  },
  {
   "cell_type": "code",
   "execution_count": 13,
   "metadata": {},
   "outputs": [
    {
     "data": {
      "text/plain": [
       "[73.6412398815155,\n",
       " 148.5677888393402,\n",
       " 222.3267719745636,\n",
       " 296.60596346855164,\n",
       " 370.39390897750854,\n",
       " 444.7990026473999,\n",
       " 518.5712730884552,\n",
       " 592.2489430904388]"
      ]
     },
     "execution_count": 13,
     "metadata": {},
     "output_type": "execute_result"
    }
   ],
   "source": [
    "cpu_time"
   ]
  },
  {
   "cell_type": "markdown",
   "metadata": {},
   "source": [
    "# Training with GPU"
   ]
  },
  {
   "cell_type": "code",
   "execution_count": 31,
   "metadata": {},
   "outputs": [],
   "source": [
    "#torch command for enabling cuda\n",
    "device = torch.device(\"cuda:3\" if torch.cuda.is_available() else \"cpu\")"
   ]
  },
  {
   "cell_type": "code",
   "execution_count": 20,
   "metadata": {},
   "outputs": [
    {
     "name": "stdout",
     "output_type": "stream",
     "text": [
      "True\n"
     ]
    }
   ],
   "source": [
    "#Making sure Cuda is available\n",
    "print(torch.cuda.is_available())"
   ]
  },
  {
   "cell_type": "code",
   "execution_count": 24,
   "metadata": {},
   "outputs": [
    {
     "name": "stdout",
     "output_type": "stream",
     "text": [
      "7605\n"
     ]
    }
   ],
   "source": [
    "#Printing the CuDNN version\n",
    "print(torch.backends.cudnn.version())"
   ]
  },
  {
   "cell_type": "code",
   "execution_count": 32,
   "metadata": {},
   "outputs": [],
   "source": [
    "#Carrying out garbage collection for preventing out of memory error\n",
    "import gc\n",
    "gc.collect()\n",
    "torch.cuda.empty_cache()"
   ]
  },
  {
   "cell_type": "code",
   "execution_count": 33,
   "metadata": {},
   "outputs": [
    {
     "name": "stdout",
     "output_type": "stream",
     "text": [
      "Device cuda:3\n",
      "Printing train data shape\n",
      "torch.Size([877, 1, 128, 128])\n",
      "Printing train ab shape\n",
      "torch.Size([877, 2, 128, 128])\n",
      "Printing test data shape\n",
      "torch.Size([98, 1, 128, 128])\n",
      "Printing test ab shape\n",
      "torch.Size([98, 2, 128, 128])\n",
      "batch_size: 10\n",
      "num_epochs: 8\n",
      "learning_rate: 0.01\n",
      "batches: 87\n",
      "optimizer: Adam\n",
      "Loss function: MSELoss\n",
      "Convnet(\n",
      "  (convolution_layers): Sequential(\n",
      "    (0): Conv2d(1, 8, kernel_size=(3, 3), stride=(1, 1), padding=(1, 1))\n",
      "    (1): BatchNorm2d(8, eps=1e-05, momentum=0.1, affine=True, track_running_stats=True)\n",
      "    (2): ReLU()\n",
      "    (3): Conv2d(8, 16, kernel_size=(3, 3), stride=(1, 1), padding=(1, 1))\n",
      "    (4): BatchNorm2d(16, eps=1e-05, momentum=0.1, affine=True, track_running_stats=True)\n",
      "    (5): ReLU()\n",
      "    (6): Conv2d(16, 32, kernel_size=(3, 3), stride=(1, 1), padding=(1, 1))\n",
      "    (7): BatchNorm2d(32, eps=1e-05, momentum=0.1, affine=True, track_running_stats=True)\n",
      "    (8): ReLU()\n",
      "    (9): Conv2d(32, 64, kernel_size=(3, 3), stride=(1, 1), padding=(1, 1))\n",
      "    (10): BatchNorm2d(64, eps=1e-05, momentum=0.1, affine=True, track_running_stats=True)\n",
      "    (11): ReLU()\n",
      "    (12): Conv2d(64, 128, kernel_size=(3, 3), stride=(1, 1), padding=(1, 1))\n",
      "    (13): BatchNorm2d(128, eps=1e-05, momentum=0.1, affine=True, track_running_stats=True)\n",
      "    (14): ReLU()\n",
      "  )\n",
      "  (deconvolution_layers): Sequential(\n",
      "    (0): ConvTranspose2d(128, 64, kernel_size=(3, 3), stride=(1, 1), padding=(1, 1))\n",
      "    (1): BatchNorm2d(64, eps=1e-05, momentum=0.1, affine=True, track_running_stats=True)\n",
      "    (2): ReLU()\n",
      "    (3): ConvTranspose2d(64, 32, kernel_size=(3, 3), stride=(1, 1), padding=(1, 1))\n",
      "    (4): BatchNorm2d(32, eps=1e-05, momentum=0.1, affine=True, track_running_stats=True)\n",
      "    (5): ReLU()\n",
      "    (6): ConvTranspose2d(32, 16, kernel_size=(3, 3), stride=(1, 1), padding=(1, 1))\n",
      "    (7): BatchNorm2d(16, eps=1e-05, momentum=0.1, affine=True, track_running_stats=True)\n",
      "    (8): ReLU()\n",
      "    (9): ConvTranspose2d(16, 8, kernel_size=(3, 3), stride=(1, 1), padding=(1, 1))\n",
      "    (10): BatchNorm2d(8, eps=1e-05, momentum=0.1, affine=True, track_running_stats=True)\n",
      "    (11): ReLU()\n",
      "    (12): ConvTranspose2d(8, 2, kernel_size=(3, 3), stride=(1, 1), padding=(1, 1))\n",
      "    (13): BatchNorm2d(2, eps=1e-05, momentum=0.1, affine=True, track_running_stats=True)\n",
      "    (14): ReLU()\n",
      "  )\n",
      ")\n",
      "Epoch: 0, Loss: 3609.7021484, Testing Loss: 8434833920.000\n",
      "Epoch: 1, Loss: 3609.7160645, Testing Loss: 8190244352.000\n",
      "Epoch: 2, Loss: 3609.7155762, Testing Loss: 8133899264.000\n",
      "Epoch: 3, Loss: 3609.4206543, Testing Loss: 7879679488.000\n",
      "Epoch: 4, Loss: 3609.8828125, Testing Loss: 7661088768.000\n",
      "Epoch: 5, Loss: 3609.7387695, Testing Loss: 7639442432.000\n",
      "Epoch: 6, Loss: 3609.7001953, Testing Loss: 7627333632.000\n",
      "Epoch: 7, Loss: 3609.7509766, Testing Loss: 7398665728.000\n"
     ]
    }
   ],
   "source": [
    "model=torch.load('./colorizer.pkl')\n",
    "print(\"Device\", device)\n",
    "\n",
    "\n",
    "batch_size = 10\n",
    "num_epochs = 8\n",
    "N=train_size\n",
    "learning_rate = 0.01\n",
    "batches = int(N/batch_size)\n",
    "model = model.float()\n",
    "model.to(device)\n",
    "\n",
    "train_data=copy.deepcopy(train_L)\n",
    "train_data=train_data/255\n",
    "train_data = train_data.to(device)\n",
    "print(\"Printing train data shape\")\n",
    "print(train_data.shape)\n",
    "train_ab = train_ab.to(device)\n",
    "print(\"Printing train ab shape\")\n",
    "print(train_ab.shape)\n",
    "test_data = copy.deepcopy(test_L)\n",
    "test_data = test_data.to(device)\n",
    "test_data=test_data/255\n",
    "print(\"Printing test data shape\")\n",
    "print(test_data.shape)\n",
    "test_ab = test_ab.to(device)\n",
    "print(\"Printing test ab shape\")\n",
    "print(test_ab.shape)\n",
    "\n",
    "\n",
    "error = nn.MSELoss()\n",
    "optimizer = torch.optim.Adam(model.parameters(), lr=learning_rate)\n",
    "print(\"batch_size:\",batch_size)\n",
    "print('num_epochs:',num_epochs)\n",
    "print(\"learning_rate:\",learning_rate)\n",
    "print(\"batches:\",batches)\n",
    "print(\"optimizer:\",'Adam')\n",
    "print(\"Loss function:\",\"MSELoss\")\n",
    "print(model)\n",
    "\n",
    "loss_hist = np.zeros(num_epochs)\n",
    "loss_test_hist = np.zeros(num_epochs)\n",
    "gpu_time=[]\n",
    "training_start_time = time.time()\n",
    "for epoch in range(num_epochs):\n",
    "    for index in range(batches):\n",
    "        patterns = train_data[index*batch_size:(index+1)*batch_size]\n",
    "        labels = train_ab[index*batch_size:(index+1)*batch_size]\n",
    "        \n",
    "        #print(\"printing all labels shape\")\n",
    "        #print(labels.shape)\n",
    "        # Forward pass \n",
    "        outputs = model(patterns)\n",
    "        loss = error(outputs, labels)\n",
    "        \n",
    "\n",
    "        # Initializing a gradient as 0 so there is no mixing of gradient among the batches\n",
    "        optimizer.zero_grad()\n",
    "\n",
    "        #Propagating the error backward\n",
    "        loss.backward()\n",
    "\n",
    "        # Optimizing the parameters\n",
    "        optimizer.step()\n",
    "        \n",
    "        #Saving the loss for visualization\n",
    "        loss_hist[epoch] += loss.data\n",
    "        \n",
    "\n",
    "    #test_total\n",
    "    patterns = test_data\n",
    "    labels = test_ab\n",
    "    outputs = model(patterns)\n",
    "    is_correct = torch.subtract(labels,outputs)\n",
    "    loss_test_hist[epoch] += (is_correct.sum()*is_correct.sum())/test_size\n",
    "\n",
    "    \n",
    "    print(\"Epoch: {}, Loss: {:.7f}, Testing Loss: {:.3f}\".format( \n",
    "                        epoch, loss_hist[epoch], loss_test_hist[epoch]))\n",
    "    \n",
    "    gpu_time.append(time.time()-training_start_time)"
   ]
  },
  {
   "cell_type": "code",
   "execution_count": null,
   "metadata": {},
   "outputs": [],
   "source": []
  },
  {
   "cell_type": "code",
   "execution_count": null,
   "metadata": {},
   "outputs": [],
   "source": []
  },
  {
   "cell_type": "code",
   "execution_count": 35,
   "metadata": {},
   "outputs": [
    {
     "data": {
      "image/png": "[encoded data removed]",
      "text/plain": [
       "<Figure size 432x288 with 1 Axes>"
      ]
     },
     "metadata": {
      "needs_background": "light"
     },
     "output_type": "display_data"
    }
   ],
   "source": [
    "plt.plot(cpu_time,c='r')\n",
    "plt.plot(gpu_time,c='g')\n",
    "plt.xlabel('Number of epochs')\n",
    "plt.ylabel('Training time (s)')\n",
    "plt.legend(['cpu_time','gpu_time'])\n",
    "plt.show()"
   ]
  },
  {
   "cell_type": "markdown",
   "metadata": {},
   "source": [
    "We can clearly see that training on GPU is significantly faster than training on CPU"
   ]
  },
  {
   "cell_type": "code",
   "execution_count": null,
   "metadata": {},
   "outputs": [],
   "source": []
  },
  {
   "cell_type": "markdown",
   "metadata": {},
   "source": [
    "# Speed up gained with GPU (Extra credit)"
   ]
  },
  {
   "cell_type": "code",
   "execution_count": 36,
   "metadata": {},
   "outputs": [
    {
     "name": "stdout",
     "output_type": "stream",
     "text": [
      "Speed up gained with GPU is 26.968080620495375\n"
     ]
    }
   ],
   "source": [
    "print(\"Speed up gained with GPU is {}\".format(cpu_time[-1]/gpu_time[-1]))"
   ]
  },
  {
   "cell_type": "markdown",
   "metadata": {},
   "source": [
    "Training with GPU is approximately 27 times faster than training with CPU"
   ]
  },
  {
   "cell_type": "code",
   "execution_count": null,
   "metadata": {},
   "outputs": [],
   "source": []
  }
 ],
 "metadata": {
  "kernelspec": {
   "display_name": "Python 3 (ipykernel)",
   "language": "python",
   "name": "python3"
  },
  "language_info": {
   "codemirror_mode": {
    "name": "ipython",
    "version": 3
   },
   "file_extension": ".py",
   "mimetype": "text/x-python",
   "name": "python",
   "nbconvert_exporter": "python",
   "pygments_lexer": "ipython3",
   "version": "3.9.12"
  }
 },
 "nbformat": 4,
 "nbformat_minor": 4
}
