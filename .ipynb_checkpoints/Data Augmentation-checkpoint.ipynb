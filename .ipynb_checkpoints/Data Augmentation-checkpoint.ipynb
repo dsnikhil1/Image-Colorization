{
 "cells": [
  {
   "cell_type": "code",
   "execution_count": 1,
   "metadata": {},
   "outputs": [],
   "source": [
    "import pandas as pd\n",
    "import numpy as np\n",
    "import torch\n",
    "import torchvision\n",
    "import matplotlib.pyplot as plt\n",
    "from random import shuffle\n",
    "import PIL\n",
    "from PIL import Image\n",
    "import cv2\n",
    "import glob\n",
    "import cv2\n",
    "import os \n",
    "from os import path\n",
    "from skimage.color import lab2rgb\n",
    "torch.set_default_tensor_type('torch.FloatTensor')"
   ]
  },
  {
   "cell_type": "code",
   "execution_count": null,
   "metadata": {},
   "outputs": [],
   "source": [
    "img_dir = \"./face_images/*\"\n",
    "files = glob.glob(img_dir)\n",
    "image_names = []\n",
    "for f1 in files:\n",
    "    if f1[-1]!='y':\n",
    "        image_names.append(f1.split('/')[-1])\n",
    "shuffle(image_names)\n",
    "horizontal_augment=image_names[:75]"
   ]
  },
  {
   "cell_type": "code",
   "execution_count": null,
   "metadata": {},
   "outputs": [],
   "source": [
    "for each_image in horizontal_augment:\n",
    "    im = Image.open('./face_images/'+each_image)\n",
    "    out = im.transpose(PIL.Image.FLIP_LEFT_RIGHT)\n",
    "    out.save('./face_images/'+'h'+each_image[:-3]+'.jpg')"
   ]
  },
  {
   "cell_type": "code",
   "execution_count": 14,
   "metadata": {},
   "outputs": [],
   "source": [
    "images = []\n",
    "def load_images_from_folder(folder):\n",
    "    for filename in os.listdir(folder):\n",
    "        #print(filename)\n",
    "        img = cv2.imread(os.path.join(folder,filename))\n",
    "        if img is not None:\n",
    "            #print('hi')\n",
    "            images.append((img,filename))\n",
    "    return images"
   ]
  },
  {
   "cell_type": "markdown",
   "metadata": {},
   "source": [
    "filename='./face_images/image00000.jpg'\n",
    "from skimage import io, color\n",
    "rgb = io.imread(filename)\n",
    "lab = color.rgb2lab(rgb)"
   ]
  },
  {
   "cell_type": "code",
   "execution_count": 15,
   "metadata": {},
   "outputs": [],
   "source": [
    "images = load_images_from_folder(\"./face_images\")\n",
    "lab_images = []\n",
    "for img,filename in images:\n",
    "    imageLAB = cv2.cvtColor(img, cv2.COLOR_BGR2LAB)\n",
    "    lab_images.append((imageLAB,filename))"
   ]
  },
  {
   "cell_type": "code",
   "execution_count": 24,
   "metadata": {},
   "outputs": [
    {
     "name": "stdout",
     "output_type": "stream",
     "text": [
      "975\n"
     ]
    }
   ],
   "source": [
    "print(len(lab_images))\n",
    "if path.exists('./face_images_L*') == False:\n",
    "    os.mkdir('./face_images_L*')\n",
    "if path.exists('./face_images_a*') == False:\n",
    "    os.mkdir('./face_images_a*')\n",
    "if path.exists('./face_images_b*') == False:\n",
    "    os.mkdir('./face_images_b*')\n",
    "\n",
    "counter = 0\n",
    "for img, filename in lab_images:\n",
    "    new_filename = 'img_L_' + filename[:-4] +'.jpg'\n",
    "    L,a,b=cv2.split(img)\n",
    "    os.chdir('./face_images_L*')\n",
    "    cv2.imwrite(new_filename, L)\n",
    "    os.chdir(\"../\")\n",
    "    os.chdir('./face_images_a*')\n",
    "    new_filename = 'img_a_' + filename[:-4] +'.jpg'\n",
    "    plt.imsave(new_filename,a,cmap='YlGnBu_r')\n",
    "    os.chdir(\"../\")\n",
    "    os.chdir('./face_images_b*')\n",
    "    new_filename = 'img_b_' + filename[:-4] +'.jpg'\n",
    "    plt.imsave(new_filename,a,cmap='RdYlGn_r')\n",
    "    os.chdir(\"../\")\n",
    "    counter = counter + 1"
   ]
  },
  {
   "cell_type": "markdown",
   "metadata": {},
   "source": [
    "L,a,b=cv2.split(lab_images[0])"
   ]
  },
  {
   "cell_type": "markdown",
   "metadata": {},
   "source": [
    "plt.imshow(L)"
   ]
  },
  {
   "cell_type": "markdown",
   "metadata": {},
   "source": [
    "cv2.imwrite('av.jpg',L)"
   ]
  },
  {
   "cell_type": "markdown",
   "metadata": {},
   "source": [
    "os.getcwd()"
   ]
  },
  {
   "cell_type": "markdown",
   "metadata": {},
   "source": [
    "cv2.imshow('example',L)"
   ]
  },
  {
   "cell_type": "code",
   "execution_count": null,
   "metadata": {},
   "outputs": [],
   "source": [
    "#Try merging L,a,b to get original image\n",
    "#Home brew"
   ]
  },
  {
   "cell_type": "markdown",
   "metadata": {},
   "source": [
    "import zipfile\n",
    "path_to_zip_file='./face_images.zip'\n",
    "directory_to_extract_to='./'\n",
    "with zipfile.ZipFile(path_to_zip_file, 'r') as zip_ref:\n",
    "    zip_ref.extractall(directory_to_extract_to)"
   ]
  },
  {
   "cell_type": "code",
   "execution_count": null,
   "metadata": {},
   "outputs": [],
   "source": []
  }
 ],
 "metadata": {
  "kernelspec": {
   "display_name": "Python 3 (ipykernel)",
   "language": "python",
   "name": "python3"
  },
  "language_info": {
   "codemirror_mode": {
    "name": "ipython",
    "version": 3
   },
   "file_extension": ".py",
   "mimetype": "text/x-python",
   "name": "python",
   "nbconvert_exporter": "python",
   "pygments_lexer": "ipython3",
   "version": "3.9.12"
  }
 },
 "nbformat": 4,
 "nbformat_minor": 4
}
