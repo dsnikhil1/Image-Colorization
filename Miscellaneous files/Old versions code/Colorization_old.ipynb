{
 "cells": [
  {
   "cell_type": "code",
   "execution_count": 1,
   "metadata": {},
   "outputs": [],
   "source": [
    "import pandas as pd\n",
    "import numpy as np\n",
    "import torch\n",
    "import torchvision\n",
    "import matplotlib.pyplot as plt\n",
    "from random import shuffle\n",
    "import PIL\n",
    "from PIL import Image\n",
    "import copy\n",
    "import cv2\n",
    "import glob\n",
    "import cv2\n",
    "import os \n",
    "from os import path\n",
    "from skimage.color import lab2rgb\n",
    "torch.set_default_tensor_type('torch.FloatTensor')\n",
    "import torch.nn as nn\n",
    "from torch.nn import Linear, ReLU, MSELoss, Sequential, Conv2d, MaxPool2d, Module, Softmax, BatchNorm2d, Dropout, ConvTranspose2d\n",
    "from torch.optim import Adam, SGD"
   ]
  },
  {
   "cell_type": "markdown",
   "metadata": {},
   "source": [
    "#Dataset Preparation\n",
    "img_dir = \"./face_images/*\"\n",
    "files = glob.glob(img_dir)\n",
    "image_names = []\n",
    "for f1 in files:\n",
    "    if f1[-1]!='y':\n",
    "        image_names.append(f1.split('/')[-1])\n",
    "shuffle(image_names)\n",
    "horizontal_augment=image_names[:75]"
   ]
  },
  {
   "cell_type": "markdown",
   "metadata": {},
   "source": [
    "#Augmentation code\n",
    "for each_image in horizontal_augment:\n",
    "    im = Image.open('./face_images/'+each_image)\n",
    "    out = im.transpose(PIL.Image.FLIP_LEFT_RIGHT)\n",
    "    out.save('./face_images/'+'h'+each_image[:-3]+'.jpg')"
   ]
  },
  {
   "cell_type": "code",
   "execution_count": 2,
   "metadata": {},
   "outputs": [],
   "source": [
    "#Loading data function\n",
    "images = []\n",
    "def load_images_from_folder(folder):\n",
    "    for filename in os.listdir(folder):\n",
    "        #print(filename)\n",
    "        img = cv2.imread(os.path.join(folder,filename))\n",
    "        if img is not None:\n",
    "            #print('hi')\n",
    "            images.append((img,filename))\n",
    "    return images"
   ]
  },
  {
   "cell_type": "markdown",
   "metadata": {},
   "source": [
    "filename='./face_images/image00000.jpg'\n",
    "from skimage import io, color\n",
    "rgb = io.imread(filename)\n",
    "lab = color.rgb2lab(rgb)"
   ]
  },
  {
   "cell_type": "code",
   "execution_count": 3,
   "metadata": {},
   "outputs": [],
   "source": [
    "#LAB images\n",
    "images = load_images_from_folder(\"./face_images\")\n",
    "L_images = []\n",
    "ab_images= []\n",
    "for img,filename in images:\n",
    "    imageLAB = cv2.cvtColor(img, cv2.COLOR_BGR2LAB)\n",
    "    L, a, b = cv2.split(imageLAB)\n",
    "    L=np.array(L,dtype=np.float32)\n",
    "    L=L[np.newaxis,:,:]\n",
    "    a=np.array(a,dtype=np.float32)\n",
    "    b=np.array(b,dtype=np.float32)\n",
    "    ab=[]\n",
    "    ab.append(a)\n",
    "    ab.append(b)\n",
    "    ab=np.array(ab)\n",
    "    ab_images.append(torch.tensor(ab))\n",
    "    L_images.append(torch.tensor(L))"
   ]
  },
  {
   "cell_type": "markdown",
   "metadata": {},
   "source": [
    "L,a,b=cv2.split(lab_images[0])"
   ]
  },
  {
   "cell_type": "markdown",
   "metadata": {},
   "source": [
    "plt.imshow(L)"
   ]
  },
  {
   "cell_type": "markdown",
   "metadata": {},
   "source": [
    "cv2.imwrite('av.jpg',L)"
   ]
  },
  {
   "cell_type": "markdown",
   "metadata": {},
   "source": [
    "os.getcwd()"
   ]
  },
  {
   "cell_type": "markdown",
   "metadata": {},
   "source": [
    "cv2.imshow('example',L)"
   ]
  },
  {
   "cell_type": "markdown",
   "metadata": {},
   "source": [
    "import zipfile\n",
    "path_to_zip_file='./face_images.zip'\n",
    "directory_to_extract_to='./'\n",
    "with zipfile.ZipFile(path_to_zip_file, 'r') as zip_ref:\n",
    "    zip_ref.extractall(directory_to_extract_to)"
   ]
  },
  {
   "cell_type": "markdown",
   "metadata": {},
   "source": [
    "*Dataset Preparation*"
   ]
  },
  {
   "cell_type": "code",
   "execution_count": null,
   "metadata": {},
   "outputs": [],
   "source": []
  },
  {
   "cell_type": "code",
   "execution_count": 4,
   "metadata": {},
   "outputs": [],
   "source": [
    "#Train & Test data\n",
    "train_percentage=70\n",
    "train_size=int((975/100)*train_percentage)\n",
    "test_size=975-train_size\n",
    "all_indices=np.arange(0,975)\n",
    "np.random.shuffle(all_indices)\n",
    "train_L=[]\n",
    "train_ab=[]\n",
    "test_L=[]\n",
    "test_ab=[]\n",
    "for i in all_indices[:train_size]:\n",
    "    train_L.append(L_images[i])\n",
    "    train_ab.append(ab_images[i])\n",
    "for i in all_indices[train_size:]:\n",
    "    test_L.append(L_images[i])\n",
    "    test_ab.append(ab_images[i])\n",
    "train_L=torch.stack(train_L, dim=0)\n",
    "train_ab=torch.stack(train_ab, dim=0)\n",
    "test_L=torch.stack(test_L, dim=0)\n",
    "test_ab=torch.stack(test_ab, dim=0)"
   ]
  },
  {
   "cell_type": "code",
   "execution_count": 5,
   "metadata": {},
   "outputs": [
    {
     "data": {
      "text/plain": [
       "tensor([[[[ 79.,  77.,  76.,  ...,  14.,  14.,  15.],\n",
       "          [ 78.,  76.,  75.,  ...,  12.,  14.,  14.],\n",
       "          [ 78.,  76.,  73.,  ...,  14.,  14.,  14.],\n",
       "          ...,\n",
       "          [148., 145., 134.,  ..., 103., 101.,  99.],\n",
       "          [149., 145., 134.,  ..., 102., 100.,  98.],\n",
       "          [149., 145., 134.,  ..., 102., 100.,  97.]]],\n",
       "\n",
       "\n",
       "        [[[ 29.,  27.,  24.,  ...,  12.,  16.,  15.],\n",
       "          [ 28.,  28.,  26.,  ...,  12.,  14.,  14.],\n",
       "          [ 19.,  23.,  24.,  ...,   9.,   6.,  10.],\n",
       "          ...,\n",
       "          [ 71.,  73.,  68.,  ...,  46.,  48.,  50.],\n",
       "          [ 76.,  76.,  71.,  ...,  43.,  46.,  47.],\n",
       "          [ 79.,  75.,  69.,  ...,  42.,  46.,  47.]]],\n",
       "\n",
       "\n",
       "        [[[ 64.,  63.,  54.,  ...,  80.,  73.,  78.],\n",
       "          [ 61.,  60.,  50.,  ...,  79.,  73.,  74.],\n",
       "          [ 59.,  57.,  51.,  ...,  78.,  77.,  74.],\n",
       "          ...,\n",
       "          [ 61.,  62.,  57.,  ...,  81.,  80.,  87.],\n",
       "          [ 61.,  58.,  55.,  ...,  80.,  83.,  92.],\n",
       "          [ 60.,  58.,  55.,  ...,  82.,  83.,  90.]]],\n",
       "\n",
       "\n",
       "        ...,\n",
       "\n",
       "\n",
       "        [[[ 14.,  15.,  15.,  ...,   9.,   9.,   9.],\n",
       "          [ 15.,  15.,  16.,  ...,   9.,   9.,   9.],\n",
       "          [ 17.,  17.,  19.,  ...,   9.,  11.,   9.],\n",
       "          ...,\n",
       "          [ 15.,  14.,  14.,  ..., 129., 150., 150.],\n",
       "          [ 14.,  14.,  14.,  ..., 157., 134., 156.],\n",
       "          [ 12.,  14.,  15.,  ..., 209., 179., 181.]]],\n",
       "\n",
       "\n",
       "        [[[ 10.,   9.,   9.,  ...,  57.,  69.,  68.],\n",
       "          [ 12.,   9.,   9.,  ...,  62.,  71.,  72.],\n",
       "          [  9.,   9.,   8.,  ...,  63.,  70.,  71.],\n",
       "          ...,\n",
       "          [  9.,   9.,   8.,  ...,  82.,  85.,  85.],\n",
       "          [  8.,   9.,   8.,  ...,  86.,  88.,  85.],\n",
       "          [  9.,   7.,   7.,  ...,  91.,  91.,  86.]]],\n",
       "\n",
       "\n",
       "        [[[ 12.,  18.,  19.,  ...,  53.,  52.,  48.],\n",
       "          [ 14.,  15.,  21.,  ...,  48.,  52.,  48.],\n",
       "          [ 15.,  12.,  23.,  ...,  48.,  54.,  47.],\n",
       "          ...,\n",
       "          [203., 201., 206.,  ..., 124., 129., 134.],\n",
       "          [204., 200., 208.,  ..., 125., 132., 137.],\n",
       "          [200., 211., 204.,  ..., 126., 125., 131.]]]])"
      ]
     },
     "execution_count": 5,
     "metadata": {},
     "output_type": "execute_result"
    }
   ],
   "source": [
    "train_L"
   ]
  },
  {
   "cell_type": "code",
   "execution_count": 6,
   "metadata": {},
   "outputs": [
    {
     "data": {
      "text/plain": [
       "torch.Size([682, 1, 128, 128])"
      ]
     },
     "execution_count": 6,
     "metadata": {},
     "output_type": "execute_result"
    }
   ],
   "source": [
    "train_L.shape"
   ]
  },
  {
   "cell_type": "code",
   "execution_count": 7,
   "metadata": {},
   "outputs": [
    {
     "data": {
      "text/plain": [
       "tensor([[[[141., 141., 139.,  ..., 132., 132., 132.],\n",
       "          [140., 139., 140.,  ..., 132., 132., 132.],\n",
       "          [140., 139., 141.,  ..., 128., 130., 130.],\n",
       "          ...,\n",
       "          [144., 144., 144.,  ..., 147., 147., 147.],\n",
       "          [144., 144., 143.,  ..., 147., 147., 147.],\n",
       "          [144., 144., 143.,  ..., 147., 147., 147.]],\n",
       "\n",
       "         [[137., 137., 137.,  ..., 129., 129., 130.],\n",
       "          [137., 137., 137.,  ..., 129., 129., 129.],\n",
       "          [137., 137., 136.,  ..., 131., 130., 130.],\n",
       "          ...,\n",
       "          [143., 143., 142.,  ..., 145., 145., 145.],\n",
       "          [144., 144., 144.,  ..., 145., 145., 145.],\n",
       "          [144., 144., 144.,  ..., 145., 145., 146.]]],\n",
       "\n",
       "\n",
       "        [[[129., 130., 130.,  ..., 128., 132., 132.],\n",
       "          [129., 129., 130.,  ..., 128., 130., 132.],\n",
       "          [130., 130., 130.,  ..., 128., 130., 130.],\n",
       "          ...,\n",
       "          [140., 140., 141.,  ..., 137., 137., 138.],\n",
       "          [140., 140., 139.,  ..., 138., 138., 138.],\n",
       "          [140., 141., 140.,  ..., 139., 138., 138.]],\n",
       "\n",
       "         [[136., 135., 132.,  ..., 133., 132., 131.],\n",
       "          [134., 133., 132.,  ..., 131., 132., 131.],\n",
       "          [131., 132., 132.,  ..., 131., 130., 130.],\n",
       "          ...,\n",
       "          [156., 155., 156.,  ..., 149., 149., 149.],\n",
       "          [155., 155., 155.,  ..., 147., 148., 147.],\n",
       "          [155., 155., 155.,  ..., 147., 148., 147.]]],\n",
       "\n",
       "\n",
       "        [[[135., 136., 136.,  ..., 142., 140., 140.],\n",
       "          [137., 136., 136.,  ..., 141., 140., 141.],\n",
       "          [137., 137., 137.,  ..., 141., 140., 141.],\n",
       "          ...,\n",
       "          [139., 139., 141.,  ..., 142., 142., 140.],\n",
       "          [139., 139., 141.,  ..., 142., 142., 140.],\n",
       "          [139., 139., 141.,  ..., 142., 142., 141.]],\n",
       "\n",
       "         [[136., 136., 134.,  ..., 139., 140., 140.],\n",
       "          [135., 135., 134.,  ..., 139., 140., 140.],\n",
       "          [134., 134., 132.,  ..., 139., 140., 140.],\n",
       "          ...,\n",
       "          [140., 141., 141.,  ..., 146., 146., 146.],\n",
       "          [142., 142., 142.,  ..., 146., 145., 145.],\n",
       "          [142., 142., 144.,  ..., 145., 144., 144.]]],\n",
       "\n",
       "\n",
       "        ...,\n",
       "\n",
       "\n",
       "        [[[132., 132., 132.,  ..., 128., 128., 128.],\n",
       "          [134., 134., 134.,  ..., 130., 128., 128.],\n",
       "          [132., 134., 132.,  ..., 130., 128., 128.],\n",
       "          ...,\n",
       "          [130., 132., 132.,  ..., 130., 130., 130.],\n",
       "          [132., 132., 132.,  ..., 129., 130., 130.],\n",
       "          [132., 132., 132.,  ..., 129., 130., 130.]],\n",
       "\n",
       "         [[130., 131., 130.,  ..., 129., 129., 129.],\n",
       "          [130., 130., 130.,  ..., 127., 128., 129.],\n",
       "          [132., 133., 133.,  ..., 126., 127., 128.],\n",
       "          ...,\n",
       "          [131., 130., 130.,  ..., 121., 121., 121.],\n",
       "          [130., 130., 130.,  ..., 123., 121., 121.],\n",
       "          [130., 130., 131.,  ..., 123., 122., 122.]]],\n",
       "\n",
       "\n",
       "        [[[128., 128., 128.,  ..., 139., 139., 139.],\n",
       "          [128., 128., 128.,  ..., 139., 140., 140.],\n",
       "          [128., 128., 130.,  ..., 139., 139., 139.],\n",
       "          ...,\n",
       "          [128., 126., 128.,  ..., 137., 137., 137.],\n",
       "          [128., 128., 128.,  ..., 137., 138., 139.],\n",
       "          [126., 126., 128.,  ..., 137., 138., 139.]],\n",
       "\n",
       "         [[126., 126., 126.,  ..., 144., 145., 145.],\n",
       "          [127., 127., 126.,  ..., 145., 145., 144.],\n",
       "          [126., 126., 126.,  ..., 145., 145., 146.],\n",
       "          ...,\n",
       "          [128., 129., 128.,  ..., 145., 145., 145.],\n",
       "          [128., 128., 128.,  ..., 146., 146., 146.],\n",
       "          [128., 128., 128.,  ..., 145., 145., 146.]]],\n",
       "\n",
       "\n",
       "        [[[130., 130., 130.,  ..., 144., 145., 144.],\n",
       "          [130., 130., 128.,  ..., 144., 145., 144.],\n",
       "          [130., 130., 126.,  ..., 144., 144., 144.],\n",
       "          ...,\n",
       "          [132., 132., 133.,  ..., 142., 142., 141.],\n",
       "          [132., 131., 133.,  ..., 140., 141., 139.],\n",
       "          [132., 132., 133.,  ..., 139., 139., 138.]],\n",
       "\n",
       "         [[130., 131., 131.,  ..., 148., 148., 149.],\n",
       "          [130., 130., 132.,  ..., 148., 148., 149.],\n",
       "          [130., 130., 132.,  ..., 149., 149., 149.],\n",
       "          ...,\n",
       "          [130., 130., 130.,  ..., 151., 152., 152.],\n",
       "          [129., 130., 130.,  ..., 152., 153., 154.],\n",
       "          [130., 130., 130.,  ..., 154., 154., 156.]]]])"
      ]
     },
     "execution_count": 7,
     "metadata": {},
     "output_type": "execute_result"
    }
   ],
   "source": [
    "train_ab"
   ]
  },
  {
   "cell_type": "code",
   "execution_count": 8,
   "metadata": {},
   "outputs": [
    {
     "data": {
      "text/plain": [
       "torch.Size([682, 2, 128, 128])"
      ]
     },
     "execution_count": 8,
     "metadata": {},
     "output_type": "execute_result"
    }
   ],
   "source": [
    "train_ab.shape"
   ]
  },
  {
   "cell_type": "code",
   "execution_count": null,
   "metadata": {},
   "outputs": [],
   "source": []
  },
  {
   "cell_type": "code",
   "execution_count": null,
   "metadata": {},
   "outputs": [],
   "source": []
  },
  {
   "cell_type": "markdown",
   "metadata": {},
   "source": [
    "# Predicting mean a* using Fully Connected Network"
   ]
  },
  {
   "cell_type": "code",
   "execution_count": null,
   "metadata": {},
   "outputs": [],
   "source": []
  },
  {
   "cell_type": "code",
   "execution_count": null,
   "metadata": {},
   "outputs": [],
   "source": []
  },
  {
   "cell_type": "markdown",
   "metadata": {},
   "source": [
    "# Predicting mean b* using Fully Connected Network"
   ]
  },
  {
   "cell_type": "code",
   "execution_count": null,
   "metadata": {},
   "outputs": [],
   "source": []
  },
  {
   "cell_type": "code",
   "execution_count": null,
   "metadata": {},
   "outputs": [],
   "source": []
  },
  {
   "cell_type": "code",
   "execution_count": null,
   "metadata": {},
   "outputs": [],
   "source": []
  },
  {
   "cell_type": "code",
   "execution_count": null,
   "metadata": {},
   "outputs": [],
   "source": []
  },
  {
   "cell_type": "code",
   "execution_count": null,
   "metadata": {},
   "outputs": [],
   "source": []
  },
  {
   "cell_type": "code",
   "execution_count": null,
   "metadata": {},
   "outputs": [],
   "source": []
  },
  {
   "cell_type": "markdown",
   "metadata": {},
   "source": [
    "# Convolution Neural Network"
   ]
  },
  {
   "cell_type": "code",
   "execution_count": 9,
   "metadata": {},
   "outputs": [],
   "source": [
    "#Reshaping the dataset from (128*128*3) to (3*128*128) for training CNNs"
   ]
  },
  {
   "cell_type": "code",
   "execution_count": 10,
   "metadata": {},
   "outputs": [],
   "source": [
    "class Convnet(nn.Module):   \n",
    "    def __init__(self):\n",
    "        super(Convnet, self).__init__()\n",
    "\n",
    "        self.convolution_layers = Sequential(\n",
    "            Conv2d(1, 32, kernel_size=3, stride=1, padding=1),\n",
    "            BatchNorm2d(32),\n",
    "            nn.ReLU(),\n",
    "            Conv2d(32, 64, kernel_size=3, stride=1, padding=1),\n",
    "            BatchNorm2d(64),\n",
    "            nn.ReLU(),\n",
    "            Conv2d(64, 128, kernel_size=3, stride=1, padding=1),\n",
    "            BatchNorm2d(128),\n",
    "            nn.ReLU(),\n",
    "            Conv2d(128, 256, kernel_size=3, stride=1, padding=1),\n",
    "            BatchNorm2d(256),\n",
    "            nn.ReLU(),\n",
    "            Conv2d(256, 512, kernel_size=3, stride=1, padding=1),\n",
    "            BatchNorm2d(512),\n",
    "            nn.ReLU()\n",
    "        )\n",
    "        \n",
    "        self.deconvolution_layers = Sequential(\n",
    "            Conv2d(512, 256, kernel_size=3, stride=1, padding=1),\n",
    "            BatchNorm2d(256),\n",
    "            nn.ReLU(),\n",
    "            Conv2d(256, 128, kernel_size=3, stride=1, padding=1),\n",
    "            BatchNorm2d(128),\n",
    "            nn.ReLU(),\n",
    "            Conv2d(128, 64, kernel_size=3, stride=1, padding=1),\n",
    "            BatchNorm2d(64),\n",
    "            nn.ReLU(),\n",
    "            Conv2d(64, 32, kernel_size=3, stride=1, padding=1),\n",
    "            BatchNorm2d(32),\n",
    "            nn.ReLU(),\n",
    "            Conv2d(32, 2, kernel_size=3, stride=1, padding=1),\n",
    "            BatchNorm2d(2),\n",
    "            nn.ReLU()\n",
    "        )\n",
    "\n",
    "\n",
    "    # Defining the forward pass    \n",
    "    def forward(self, x):\n",
    "        x = self.convolution_layers(x)\n",
    "        x = self.deconvolution_layers(x)\n",
    "        return x"
   ]
  },
  {
   "cell_type": "markdown",
   "metadata": {},
   "source": [
    "# Predicting ab combo using CNN"
   ]
  },
  {
   "cell_type": "code",
   "execution_count": 11,
   "metadata": {},
   "outputs": [
    {
     "name": "stdout",
     "output_type": "stream",
     "text": [
      "True\n"
     ]
    }
   ],
   "source": [
    "print(torch.backends.mps.is_available())"
   ]
  },
  {
   "cell_type": "code",
   "execution_count": null,
   "metadata": {},
   "outputs": [],
   "source": []
  },
  {
   "cell_type": "code",
   "execution_count": 12,
   "metadata": {},
   "outputs": [
    {
     "data": {
      "text/plain": [
       "tensor([1, 2])"
      ]
     },
     "execution_count": 12,
     "metadata": {},
     "output_type": "execute_result"
    }
   ],
   "source": [
    "torch.tensor([1,2])"
   ]
  },
  {
   "cell_type": "code",
   "execution_count": null,
   "metadata": {},
   "outputs": [
    {
     "name": "stdout",
     "output_type": "stream",
     "text": [
      "True\n",
      "Device cpu\n",
      "Printing train data shape\n",
      "torch.Size([682, 1, 128, 128])\n",
      "Printing train ab shape\n",
      "torch.Size([682, 2, 128, 128])\n",
      "Printing test data shape\n",
      "torch.Size([293, 1, 128, 128])\n",
      "Printing test ab shape\n",
      "torch.Size([293, 2, 128, 128])\n",
      "batch_size: 10\n",
      "num_epochs: 3\n",
      "learning_rate: 0.01\n",
      "batches: 68\n",
      "optimizer: Adam\n",
      "Loss function: MSELoss\n",
      "Convnet(\n",
      "  (convolution_layers): Sequential(\n",
      "    (0): Conv2d(1, 32, kernel_size=(3, 3), stride=(1, 1), padding=(1, 1))\n",
      "    (1): BatchNorm2d(32, eps=1e-05, momentum=0.1, affine=True, track_running_stats=True)\n",
      "    (2): ReLU()\n",
      "    (3): Conv2d(32, 64, kernel_size=(3, 3), stride=(1, 1), padding=(1, 1))\n",
      "    (4): BatchNorm2d(64, eps=1e-05, momentum=0.1, affine=True, track_running_stats=True)\n",
      "    (5): ReLU()\n",
      "    (6): Conv2d(64, 128, kernel_size=(3, 3), stride=(1, 1), padding=(1, 1))\n",
      "    (7): BatchNorm2d(128, eps=1e-05, momentum=0.1, affine=True, track_running_stats=True)\n",
      "    (8): ReLU()\n",
      "    (9): Conv2d(128, 256, kernel_size=(3, 3), stride=(1, 1), padding=(1, 1))\n",
      "    (10): BatchNorm2d(256, eps=1e-05, momentum=0.1, affine=True, track_running_stats=True)\n",
      "    (11): ReLU()\n",
      "    (12): Conv2d(256, 512, kernel_size=(3, 3), stride=(1, 1), padding=(1, 1))\n",
      "    (13): BatchNorm2d(512, eps=1e-05, momentum=0.1, affine=True, track_running_stats=True)\n",
      "    (14): ReLU()\n",
      "  )\n",
      "  (deconvolution_layers): Sequential(\n",
      "    (0): Conv2d(512, 256, kernel_size=(3, 3), stride=(1, 1), padding=(1, 1))\n",
      "    (1): BatchNorm2d(256, eps=1e-05, momentum=0.1, affine=True, track_running_stats=True)\n",
      "    (2): ReLU()\n",
      "    (3): Conv2d(256, 128, kernel_size=(3, 3), stride=(1, 1), padding=(1, 1))\n",
      "    (4): BatchNorm2d(128, eps=1e-05, momentum=0.1, affine=True, track_running_stats=True)\n",
      "    (5): ReLU()\n",
      "    (6): Conv2d(128, 64, kernel_size=(3, 3), stride=(1, 1), padding=(1, 1))\n",
      "    (7): BatchNorm2d(64, eps=1e-05, momentum=0.1, affine=True, track_running_stats=True)\n",
      "    (8): ReLU()\n",
      "    (9): Conv2d(64, 32, kernel_size=(3, 3), stride=(1, 1), padding=(1, 1))\n",
      "    (10): BatchNorm2d(32, eps=1e-05, momentum=0.1, affine=True, track_running_stats=True)\n",
      "    (11): ReLU()\n",
      "    (12): Conv2d(32, 2, kernel_size=(3, 3), stride=(1, 1), padding=(1, 1))\n",
      "    (13): BatchNorm2d(2, eps=1e-05, momentum=0.1, affine=True, track_running_stats=True)\n",
      "    (14): ReLU()\n",
      "  )\n",
      ")\n",
      "Epoch: 0, Loss: 1317196.8750000, Testing Loss: 6032046417772544.000\n"
     ]
    }
   ],
   "source": [
    "device = torch.device(\"mps\" if torch.cuda.is_available() else \"cpu\")\n",
    "print(torch.backends.mps.is_available())\n",
    "device = torch.device(torch.device(\"mps\"))\n",
    "device=\"cpu\"\n",
    "print(\"Device\", device)\n",
    "\n",
    "\n",
    "batch_size = 10\n",
    "num_epochs = 3\n",
    "N=train_size\n",
    "learning_rate = 0.01\n",
    "batches = int(N/batch_size)\n",
    "#batch_size=1\n",
    "\n",
    "model = Convnet()\n",
    "model = model.float()\n",
    "model.to(device)\n",
    "\n",
    "train_data=copy.deepcopy(train_L)\n",
    "train_data = train_data.to(device)\n",
    "print(\"Printing train data shape\")\n",
    "print(train_data.shape)\n",
    "train_ab = train_ab.to(device)\n",
    "print(\"Printing train ab shape\")\n",
    "print(train_ab.shape)\n",
    "test_data = copy.deepcopy(test_L)\n",
    "test_data = test_data.to(device)\n",
    "print(\"Printing test data shape\")\n",
    "print(test_data.shape)\n",
    "test_ab = test_ab.to(device)\n",
    "print(\"Printing test ab shape\")\n",
    "print(test_ab.shape)\n",
    "\n",
    "\n",
    "error = nn.MSELoss()  # This works well with the linear output layer\n",
    "optimizer = torch.optim.Adam(model.parameters(), lr=learning_rate)\n",
    "print(\"batch_size:\",batch_size)\n",
    "print('num_epochs:',num_epochs)\n",
    "print(\"learning_rate:\",learning_rate)\n",
    "print(\"batches:\",batches)\n",
    "print(\"optimizer:\",'Adam')\n",
    "print(\"Loss function:\",\"MSELoss\")\n",
    "print(model)\n",
    "\n",
    "loss_hist = np.zeros(num_epochs)\n",
    "loss_test_hist = np.zeros(num_epochs)\n",
    "\n",
    "for epoch in range(num_epochs):\n",
    "    for index in range(batches):\n",
    "        patterns = train_data[index*batch_size:(index+1)*batch_size]\n",
    "        labels = train_ab[index*batch_size:(index+1)*batch_size]\n",
    "        \n",
    "        #print(\"printing all labels shape\")\n",
    "        #print(labels.shape)\n",
    "        # Forward pass \n",
    "        outputs = model(patterns)\n",
    "        loss = error(outputs, labels)\n",
    "        \n",
    "\n",
    "        # Initializing a gradient as 0 so there is no mixing of gradient among the batches\n",
    "        optimizer.zero_grad()\n",
    "\n",
    "        #Propagating the error backward\n",
    "        loss.backward()\n",
    "\n",
    "        # Optimizing the parameters\n",
    "        optimizer.step()\n",
    "        \n",
    "        #Saving the loss for visualization\n",
    "        loss_hist[epoch] += loss.data\n",
    "        \n",
    "\n",
    "    #test_total\n",
    "    patterns = test_data\n",
    "    labels = test_ab\n",
    "    outputs = model(patterns)\n",
    "    is_correct = torch.subtract(labels,outputs)\n",
    "    loss_test_hist[epoch] += (is_correct.sum()*is_correct.sum())/test_size\n",
    "\n",
    "    #if epoch%25==0:\n",
    "    print(\"Epoch: {}, Loss: {:.7f}, Testing Loss: {:.3f}\".format( \n",
    "                        epoch, loss_hist[epoch], loss_test_hist[epoch]))\n",
    "\n",
    "\n",
    "\n",
    "plt.figure()\n",
    "plt.plot(loss_hist)\n",
    "plt.xlabel(\"epoch\")\n",
    "plt.ylabel(\"MSE Loss\")\n",
    "plt.title(\"Mean a* prediction Training Data Convolutional Neural Network\")\n",
    "plt.legend(\"Training Loss\")\n",
    "plt.show()\n",
    "\n",
    "plt.figure()\n",
    "plt.plot(loss_test_hist)\n",
    "plt.xlabel(\"epoch\")\n",
    "plt.ylabel(\"MSE Loss\")\n",
    "plt.title(\"Mean a* prediction TestingData Convolutional Neural Network\")\n",
    "plt.legend(\"Testing Loss\")\n",
    "\n",
    "plt.show()"
   ]
  },
  {
   "cell_type": "markdown",
   "metadata": {},
   "source": [
    "# Predicting mean b* using CNN"
   ]
  },
  {
   "cell_type": "code",
   "execution_count": 150,
   "metadata": {},
   "outputs": [
    {
     "name": "stdout",
     "output_type": "stream",
     "text": [
      "Device cpu\n",
      "batch_size: 100\n",
      "num_epochs: 500\n",
      "learning_rate: 0.01\n",
      "batches: 6\n",
      "optimizer: Adam\n",
      "Loss function: MSELoss\n",
      "Convnet(\n",
      "  (cnn_layers): Sequential(\n",
      "    (0): Conv2d(3, 3, kernel_size=(3, 3), stride=(2, 2), padding=(1, 1))\n",
      "    (1): BatchNorm2d(3, eps=1e-05, momentum=0.1, affine=True, track_running_stats=True)\n",
      "    (2): ReLU(inplace=True)\n",
      "    (3): Conv2d(3, 3, kernel_size=(3, 3), stride=(2, 2), padding=(1, 1))\n",
      "    (4): BatchNorm2d(3, eps=1e-05, momentum=0.1, affine=True, track_running_stats=True)\n",
      "    (5): ReLU(inplace=True)\n",
      "    (6): Conv2d(3, 3, kernel_size=(3, 3), stride=(2, 2), padding=(1, 1))\n",
      "    (7): BatchNorm2d(3, eps=1e-05, momentum=0.1, affine=True, track_running_stats=True)\n",
      "    (8): ReLU(inplace=True)\n",
      "    (9): Conv2d(3, 3, kernel_size=(3, 3), stride=(2, 2), padding=(1, 1))\n",
      "    (10): BatchNorm2d(3, eps=1e-05, momentum=0.1, affine=True, track_running_stats=True)\n",
      "    (11): ReLU(inplace=True)\n",
      "  )\n",
      "  (linear_layers): Sequential(\n",
      "    (0): Linear(in_features=192, out_features=1, bias=True)\n",
      "  )\n",
      ")\n",
      "Epoch: 0, Loss: 193179.0937500, Testing Loss: 8955011.000\n",
      "Epoch: 25, Loss: 951.6940308, Testing Loss: 304.653\n",
      "Epoch: 50, Loss: 848.2541504, Testing Loss: 193.130\n",
      "Epoch: 75, Loss: 767.4439697, Testing Loss: 232.375\n",
      "Epoch: 100, Loss: 686.6599731, Testing Loss: 250.929\n",
      "Epoch: 125, Loss: 605.7453613, Testing Loss: 259.538\n",
      "Epoch: 150, Loss: 554.8998413, Testing Loss: 484.445\n",
      "Epoch: 175, Loss: 499.2159119, Testing Loss: 299.281\n",
      "Epoch: 200, Loss: 495.9668884, Testing Loss: 579.545\n",
      "Epoch: 225, Loss: 414.7936401, Testing Loss: 466.989\n",
      "Epoch: 250, Loss: 415.1236267, Testing Loss: 255.952\n",
      "Epoch: 275, Loss: 379.8040161, Testing Loss: 857.837\n",
      "Epoch: 300, Loss: 349.6818237, Testing Loss: 192.502\n",
      "Epoch: 325, Loss: 300.4665222, Testing Loss: 262.831\n",
      "Epoch: 350, Loss: 269.1881104, Testing Loss: 118.720\n",
      "Epoch: 375, Loss: 292.8338623, Testing Loss: 66.552\n",
      "Epoch: 400, Loss: 268.0473938, Testing Loss: 257.010\n",
      "Epoch: 425, Loss: 216.8016510, Testing Loss: 87.737\n",
      "Epoch: 450, Loss: 209.6505127, Testing Loss: 85.549\n",
      "Epoch: 475, Loss: 199.5333710, Testing Loss: 33.810\n"
     ]
    },
    {
     "data": {
      "image/png": "[encoded data removed]",
      "text/plain": [
       "<Figure size 640x480 with 1 Axes>"
      ]
     },
     "metadata": {},
     "output_type": "display_data"
    },
    {
     "data": {
      "image/png": "[encoded data removed]",
      "text/plain": [
       "<Figure size 640x480 with 1 Axes>"
      ]
     },
     "metadata": {},
     "output_type": "display_data"
    }
   ],
   "source": [
    "device = torch.device(\"cuda:0\" if torch.cuda.is_available() else \"cpu\")\n",
    "print(\"Device\", device)\n",
    "\n",
    "\n",
    "batch_size = 100\n",
    "num_epochs = 500\n",
    "N=train_size\n",
    "learning_rate = 0.01\n",
    "batches = int(N/batch_size)\n",
    "\n",
    "model = Convnet()\n",
    "model = model.float()\n",
    "model.to(device)\n",
    "\n",
    "train_data=copy.deepcopy(new_train_L)\n",
    "train_data = train_data.to(device)\n",
    "test_data = copy.deepcopy(new_test_L)\n",
    "test_data = test_data.to(device)\n",
    "\n",
    "error = nn.MSELoss()  # This works well with the linear output layer\n",
    "optimizer = torch.optim.Adam(model.parameters(), lr=learning_rate)\n",
    "print(\"batch_size:\",batch_size)\n",
    "print('num_epochs:',num_epochs)\n",
    "print(\"learning_rate:\",learning_rate)\n",
    "print(\"batches:\",batches)\n",
    "print(\"optimizer:\",'Adam')\n",
    "print(\"Loss function:\",\"MSELoss\")\n",
    "print(model)\n",
    "\n",
    "loss_hist = np.zeros(num_epochs)\n",
    "loss_test_hist = np.zeros(num_epochs)\n",
    "\n",
    "for epoch in range(num_epochs):\n",
    "    for index in range(batches):\n",
    "        patterns = train_data[index*batch_size:(index+1)*batch_size]\n",
    "        labels = train_b[index*batch_size:(index+1)*batch_size]\n",
    "\n",
    "        # Forward pass \n",
    "        outputs = model(patterns)\n",
    "        loss = error(outputs, labels)\n",
    "\n",
    "        # Initializing a gradient as 0 so there is no mixing of gradient among the batches\n",
    "        optimizer.zero_grad()\n",
    "\n",
    "        #Propagating the error backward\n",
    "        loss.backward()\n",
    "\n",
    "        # Optimizing the parameters\n",
    "        optimizer.step()\n",
    "        \n",
    "        #Saving the loss for visualization\n",
    "        loss_hist[epoch] += loss.data\n",
    "        \n",
    "\n",
    "    #test_total\n",
    "    patterns = test_data\n",
    "    labels = test_b\n",
    "    outputs = model(patterns)\n",
    "    is_correct = torch.subtract(labels,outputs)\n",
    "    loss_test_hist[epoch] += (is_correct.sum()*is_correct.sum())/test_size\n",
    "\n",
    "    if epoch%25==0:\n",
    "        print(\"Epoch: {}, Loss: {:.7f}, Testing Loss: {:.3f}\".format( \n",
    "                        epoch, loss_hist[epoch], loss_test_hist[epoch]))\n",
    "\n",
    "\n",
    "\n",
    "plt.figure()\n",
    "plt.plot(loss_hist)\n",
    "plt.xlabel(\"epoch\")\n",
    "plt.ylabel(\"MSE Loss\")\n",
    "plt.title(\"Mean b* prediction Training Data Convolutional Neural Network\")\n",
    "plt.legend(\"Training Loss\")\n",
    "plt.show()\n",
    "\n",
    "plt.figure()\n",
    "plt.plot(loss_test_hist)\n",
    "plt.xlabel(\"epoch\")\n",
    "plt.ylabel(\"MSE Loss\")\n",
    "plt.title(\"Mean b* prediction TestingData Convolutional Neural Network\")\n",
    "plt.legend(\"Testing Loss\")\n",
    "plt.show()"
   ]
  },
  {
   "cell_type": "code",
   "execution_count": null,
   "metadata": {},
   "outputs": [],
   "source": []
  },
  {
   "cell_type": "markdown",
   "metadata": {},
   "source": [
    "# Convolution Neural Network for mean a* prediction with scaled input data"
   ]
  },
  {
   "cell_type": "code",
   "execution_count": 146,
   "metadata": {},
   "outputs": [],
   "source": [
    "#Scaling the input data"
   ]
  },
  {
   "cell_type": "code",
   "execution_count": 151,
   "metadata": {},
   "outputs": [],
   "source": [
    "new_train_L=(new_train_L)/torch.max(new_train_L)\n",
    "new_test_L=(new_test_L)/torch.max(new_test_L)"
   ]
  },
  {
   "cell_type": "code",
   "execution_count": 152,
   "metadata": {},
   "outputs": [
    {
     "name": "stdout",
     "output_type": "stream",
     "text": [
      "Device cpu\n",
      "batch_size: 100\n",
      "num_epochs: 500\n",
      "learning_rate: 0.01\n",
      "batches: 6\n",
      "optimizer: Adam\n",
      "Loss function: MSELoss\n",
      "Convnet(\n",
      "  (cnn_layers): Sequential(\n",
      "    (0): Conv2d(3, 3, kernel_size=(3, 3), stride=(2, 2), padding=(1, 1))\n",
      "    (1): BatchNorm2d(3, eps=1e-05, momentum=0.1, affine=True, track_running_stats=True)\n",
      "    (2): ReLU(inplace=True)\n",
      "    (3): Conv2d(3, 3, kernel_size=(3, 3), stride=(2, 2), padding=(1, 1))\n",
      "    (4): BatchNorm2d(3, eps=1e-05, momentum=0.1, affine=True, track_running_stats=True)\n",
      "    (5): ReLU(inplace=True)\n",
      "    (6): Conv2d(3, 3, kernel_size=(3, 3), stride=(2, 2), padding=(1, 1))\n",
      "    (7): BatchNorm2d(3, eps=1e-05, momentum=0.1, affine=True, track_running_stats=True)\n",
      "    (8): ReLU(inplace=True)\n",
      "    (9): Conv2d(3, 3, kernel_size=(3, 3), stride=(2, 2), padding=(1, 1))\n",
      "    (10): BatchNorm2d(3, eps=1e-05, momentum=0.1, affine=True, track_running_stats=True)\n",
      "    (11): ReLU(inplace=True)\n",
      "  )\n",
      "  (linear_layers): Sequential(\n",
      "    (0): Linear(in_features=192, out_features=1, bias=True)\n",
      "  )\n",
      ")\n",
      "Epoch: 0, Loss: 122547.3125000, Testing Loss: 5615689.000\n",
      "Epoch: 25, Loss: 1815.6359863, Testing Loss: 0.775\n",
      "Epoch: 50, Loss: 1503.8515625, Testing Loss: 41.925\n",
      "Epoch: 75, Loss: 1273.4836426, Testing Loss: 2.457\n",
      "Epoch: 100, Loss: 1146.3475342, Testing Loss: 55.683\n",
      "Epoch: 125, Loss: 1048.4527588, Testing Loss: 53.619\n",
      "Epoch: 150, Loss: 948.5506592, Testing Loss: 143.877\n",
      "Epoch: 175, Loss: 874.0585938, Testing Loss: 276.572\n",
      "Epoch: 200, Loss: 805.5906982, Testing Loss: 564.964\n",
      "Epoch: 225, Loss: 690.2253418, Testing Loss: 235.926\n",
      "Epoch: 250, Loss: 643.4976196, Testing Loss: 275.882\n",
      "Epoch: 275, Loss: 599.5849609, Testing Loss: 150.410\n",
      "Epoch: 300, Loss: 533.7268066, Testing Loss: 2.050\n",
      "Epoch: 325, Loss: 519.5737915, Testing Loss: 7.179\n",
      "Epoch: 350, Loss: 487.3926392, Testing Loss: 4.025\n",
      "Epoch: 375, Loss: 452.4797668, Testing Loss: 36.289\n",
      "Epoch: 400, Loss: 433.2105713, Testing Loss: 1.043\n",
      "Epoch: 425, Loss: 397.3468018, Testing Loss: 1.346\n",
      "Epoch: 450, Loss: 371.2372742, Testing Loss: 0.864\n",
      "Epoch: 475, Loss: 375.0828552, Testing Loss: 35.723\n"
     ]
    },
    {
     "data": {
      "image/png": "[encoded data removed]",
      "text/plain": [
       "<Figure size 640x480 with 1 Axes>"
      ]
     },
     "metadata": {},
     "output_type": "display_data"
    },
    {
     "data": {
      "image/png": "[encoded data removed]",
      "text/plain": [
       "<Figure size 640x480 with 1 Axes>"
      ]
     },
     "metadata": {},
     "output_type": "display_data"
    }
   ],
   "source": [
    "device = torch.device(\"cuda:0\" if torch.cuda.is_available() else \"cpu\")\n",
    "print(\"Device\", device)\n",
    "\n",
    "\n",
    "batch_size = 100\n",
    "num_epochs = 500\n",
    "N=train_size\n",
    "learning_rate = 0.01\n",
    "batches = int(N/batch_size)\n",
    "\n",
    "model = Convnet()\n",
    "model = model.float()\n",
    "model.to(device)\n",
    "\n",
    "train_data=copy.deepcopy(new_train_L)\n",
    "train_data = train_data.to(device)\n",
    "test_data = copy.deepcopy(new_test_L)\n",
    "test_data = test_data.to(device)\n",
    "\n",
    "error = nn.MSELoss()  # This works well with the linear output layer\n",
    "optimizer = torch.optim.Adam(model.parameters(), lr=learning_rate)\n",
    "print(\"batch_size:\",batch_size)\n",
    "print('num_epochs:',num_epochs)\n",
    "print(\"learning_rate:\",learning_rate)\n",
    "print(\"batches:\",batches)\n",
    "print(\"optimizer:\",'Adam')\n",
    "print(\"Loss function:\",\"MSELoss\")\n",
    "print(model)\n",
    "\n",
    "loss_hist = np.zeros(num_epochs)\n",
    "loss_test_hist = np.zeros(num_epochs)\n",
    "\n",
    "for epoch in range(num_epochs):\n",
    "    for index in range(batches):\n",
    "        patterns = train_data[index*batch_size:(index+1)*batch_size]\n",
    "        labels = train_a[index*batch_size:(index+1)*batch_size]\n",
    "\n",
    "        # Forward pass \n",
    "        outputs = model(patterns)\n",
    "        loss = error(outputs, labels)\n",
    "\n",
    "        # Initializing a gradient as 0 so there is no mixing of gradient among the batches\n",
    "        optimizer.zero_grad()\n",
    "\n",
    "        #Propagating the error backward\n",
    "        loss.backward()\n",
    "\n",
    "        # Optimizing the parameters\n",
    "        optimizer.step()\n",
    "        \n",
    "        #Saving the loss for visualization\n",
    "        loss_hist[epoch] += loss.data\n",
    "        \n",
    "\n",
    "    #test_total\n",
    "    patterns = test_data\n",
    "    labels = test_a\n",
    "    outputs = model(patterns)\n",
    "    is_correct = torch.subtract(labels,outputs)\n",
    "    loss_test_hist[epoch] += (is_correct.sum()*is_correct.sum())/test_size\n",
    "\n",
    "    if epoch%25==0:\n",
    "        print(\"Epoch: {}, Loss: {:.7f}, Testing Loss: {:.3f}\".format( \n",
    "                        epoch, loss_hist[epoch], loss_test_hist[epoch]))\n",
    "\n",
    "\n",
    "\n",
    "plt.figure()\n",
    "plt.plot(loss_hist)\n",
    "plt.xlabel(\"epoch\")\n",
    "plt.ylabel(\"MSE Loss\")\n",
    "plt.title(\"Mean a* prediction Train Scaled\")\n",
    "plt.legend(\"Training Loss\")\n",
    "plt.show()\n",
    "\n",
    "plt.figure()\n",
    "plt.plot(loss_test_hist)\n",
    "plt.xlabel(\"epoch\")\n",
    "plt.ylabel(\"MSE Loss\")\n",
    "plt.title(\"Mean a* prediction Test Scaled\")\n",
    "plt.legend(\"Testing Loss\")\n",
    "\n",
    "plt.show()"
   ]
  },
  {
   "cell_type": "markdown",
   "metadata": {},
   "source": [
    "# Convolution Neural Network for mean b* prediction with scaled input data"
   ]
  },
  {
   "cell_type": "code",
   "execution_count": 153,
   "metadata": {},
   "outputs": [
    {
     "name": "stdout",
     "output_type": "stream",
     "text": [
      "Device cpu\n",
      "batch_size: 100\n",
      "num_epochs: 500\n",
      "learning_rate: 0.01\n",
      "batches: 6\n",
      "optimizer: Adam\n",
      "Loss function: MSELoss\n",
      "Convnet(\n",
      "  (cnn_layers): Sequential(\n",
      "    (0): Conv2d(3, 3, kernel_size=(3, 3), stride=(2, 2), padding=(1, 1))\n",
      "    (1): BatchNorm2d(3, eps=1e-05, momentum=0.1, affine=True, track_running_stats=True)\n",
      "    (2): ReLU(inplace=True)\n",
      "    (3): Conv2d(3, 3, kernel_size=(3, 3), stride=(2, 2), padding=(1, 1))\n",
      "    (4): BatchNorm2d(3, eps=1e-05, momentum=0.1, affine=True, track_running_stats=True)\n",
      "    (5): ReLU(inplace=True)\n",
      "    (6): Conv2d(3, 3, kernel_size=(3, 3), stride=(2, 2), padding=(1, 1))\n",
      "    (7): BatchNorm2d(3, eps=1e-05, momentum=0.1, affine=True, track_running_stats=True)\n",
      "    (8): ReLU(inplace=True)\n",
      "    (9): Conv2d(3, 3, kernel_size=(3, 3), stride=(2, 2), padding=(1, 1))\n",
      "    (10): BatchNorm2d(3, eps=1e-05, momentum=0.1, affine=True, track_running_stats=True)\n",
      "    (11): ReLU(inplace=True)\n",
      "  )\n",
      "  (linear_layers): Sequential(\n",
      "    (0): Linear(in_features=192, out_features=1, bias=True)\n",
      "  )\n",
      ")\n",
      "Epoch: 0, Loss: 193709.2656250, Testing Loss: 8977592.000\n",
      "Epoch: 25, Loss: 877.7261353, Testing Loss: 68.067\n",
      "Epoch: 50, Loss: 789.9059448, Testing Loss: 51.950\n",
      "Epoch: 75, Loss: 722.7335205, Testing Loss: 14.157\n",
      "Epoch: 100, Loss: 549.0632935, Testing Loss: 241.620\n",
      "Epoch: 125, Loss: 477.7564697, Testing Loss: 307.308\n",
      "Epoch: 150, Loss: 433.1484375, Testing Loss: 905.401\n",
      "Epoch: 175, Loss: 399.8136597, Testing Loss: 685.316\n",
      "Epoch: 200, Loss: 360.5715027, Testing Loss: 509.359\n",
      "Epoch: 225, Loss: 327.5487061, Testing Loss: 315.624\n",
      "Epoch: 250, Loss: 311.9626770, Testing Loss: 242.600\n",
      "Epoch: 275, Loss: 273.0117798, Testing Loss: 272.960\n",
      "Epoch: 300, Loss: 262.1612549, Testing Loss: 249.146\n",
      "Epoch: 325, Loss: 232.5393982, Testing Loss: 261.607\n",
      "Epoch: 350, Loss: 229.5829315, Testing Loss: 41.330\n",
      "Epoch: 375, Loss: 266.6918335, Testing Loss: 241.870\n",
      "Epoch: 400, Loss: 199.4674072, Testing Loss: 229.663\n",
      "Epoch: 425, Loss: 212.6084595, Testing Loss: 67.072\n",
      "Epoch: 450, Loss: 171.1582336, Testing Loss: 225.470\n",
      "Epoch: 475, Loss: 163.5954590, Testing Loss: 83.846\n"
     ]
    },
    {
     "data": {
      "image/png": "[encoded data removed]",
      "text/plain": [
       "<Figure size 640x480 with 1 Axes>"
      ]
     },
     "metadata": {},
     "output_type": "display_data"
    },
    {
     "data": {
      "image/png": "[encoded data removed]",
      "text/plain": [
       "<Figure size 640x480 with 1 Axes>"
      ]
     },
     "metadata": {},
     "output_type": "display_data"
    }
   ],
   "source": [
    "device = torch.device(\"cuda:0\" if torch.cuda.is_available() else \"cpu\")\n",
    "print(\"Device\", device)\n",
    "\n",
    "\n",
    "batch_size = 100\n",
    "num_epochs = 500\n",
    "N=train_size\n",
    "learning_rate = 0.01\n",
    "batches = int(N/batch_size)\n",
    "\n",
    "model = Convnet()\n",
    "model = model.float()\n",
    "model.to(device)\n",
    "\n",
    "train_data=copy.deepcopy(new_train_L)\n",
    "train_data = train_data.to(device)\n",
    "test_data = copy.deepcopy(new_test_L)\n",
    "test_data = test_data.to(device)\n",
    "\n",
    "error = nn.MSELoss()  # This works well with the linear output layer\n",
    "optimizer = torch.optim.Adam(model.parameters(), lr=learning_rate)\n",
    "print(\"batch_size:\",batch_size)\n",
    "print('num_epochs:',num_epochs)\n",
    "print(\"learning_rate:\",learning_rate)\n",
    "print(\"batches:\",batches)\n",
    "print(\"optimizer:\",'Adam')\n",
    "print(\"Loss function:\",\"MSELoss\")\n",
    "print(model)\n",
    "\n",
    "loss_hist = np.zeros(num_epochs)\n",
    "loss_test_hist = np.zeros(num_epochs)\n",
    "\n",
    "for epoch in range(num_epochs):\n",
    "    for index in range(batches):\n",
    "        patterns = train_data[index*batch_size:(index+1)*batch_size]\n",
    "        labels = train_b[index*batch_size:(index+1)*batch_size]\n",
    "\n",
    "        # Forward pass \n",
    "        outputs = model(patterns)\n",
    "        loss = error(outputs, labels)\n",
    "\n",
    "        # Initializing a gradient as 0 so there is no mixing of gradient among the batches\n",
    "        optimizer.zero_grad()\n",
    "\n",
    "        #Propagating the error backward\n",
    "        loss.backward()\n",
    "\n",
    "        # Optimizing the parameters\n",
    "        optimizer.step()\n",
    "        \n",
    "        #Saving the loss for visualization\n",
    "        loss_hist[epoch] += loss.data\n",
    "        \n",
    "\n",
    "    #test_total\n",
    "    patterns = test_data\n",
    "    labels = test_b\n",
    "    outputs = model(patterns)\n",
    "    is_correct = torch.subtract(labels,outputs)\n",
    "    loss_test_hist[epoch] += (is_correct.sum()*is_correct.sum())/test_size\n",
    "\n",
    "    if epoch%25==0:\n",
    "        print(\"Epoch: {}, Loss: {:.7f}, Testing Loss: {:.3f}\".format( \n",
    "                        epoch, loss_hist[epoch], loss_test_hist[epoch]))\n",
    "\n",
    "\n",
    "\n",
    "plt.figure()\n",
    "plt.plot(loss_hist)\n",
    "plt.xlabel(\"epoch\")\n",
    "plt.ylabel(\"MSE Loss\")\n",
    "plt.title(\"Mean b* prediction Train Scaled\")\n",
    "plt.legend(\"Training Loss\")\n",
    "plt.show()\n",
    "\n",
    "plt.figure()\n",
    "plt.plot(loss_test_hist)\n",
    "plt.xlabel(\"epoch\")\n",
    "plt.ylabel(\"MSE Loss\")\n",
    "plt.title(\"Mean b* prediction Test Scaled\")\n",
    "plt.legend(\"Testing Loss\")\n",
    "\n",
    "plt.show()"
   ]
  },
  {
   "cell_type": "code",
   "execution_count": null,
   "metadata": {},
   "outputs": [],
   "source": []
  }
 ],
 "metadata": {
  "kernelspec": {
   "display_name": "Python 3 (ipykernel)",
   "language": "python",
   "name": "python3"
  },
  "language_info": {
   "codemirror_mode": {
    "name": "ipython",
    "version": 3
   },
   "file_extension": ".py",
   "mimetype": "text/x-python",
   "name": "python",
   "nbconvert_exporter": "python",
   "pygments_lexer": "ipython3",
   "version": "3.9.12"
  }
 },
 "nbformat": 4,
 "nbformat_minor": 4
}
